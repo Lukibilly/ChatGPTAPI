{
 "cells": [
  {
   "attachments": {},
   "cell_type": "markdown",
   "id": "5d0a7836",
   "metadata": {},
   "source": [
    "# Testing ChatGPT API for the first time!"
   ]
  },
  {
   "attachments": {},
   "cell_type": "markdown",
   "id": "f1cdf475",
   "metadata": {},
   "source": [
    "### Initialization and imports"
   ]
  },
  {
   "cell_type": "code",
   "execution_count": 13,
   "id": "4120a093",
   "metadata": {},
   "outputs": [],
   "source": [
    "import openai\n",
    "import os"
   ]
  },
  {
   "cell_type": "code",
   "execution_count": 14,
   "id": "aa691183",
   "metadata": {},
   "outputs": [],
   "source": [
    "key = os.getenv('OPENAI_API_KEY')\n",
    "openai.api_key = key"
   ]
  },
  {
   "attachments": {},
   "cell_type": "markdown",
   "id": "865ad87b",
   "metadata": {},
   "source": [
    "### Parameters and Answer functions"
   ]
  },
  {
   "cell_type": "code",
   "execution_count": 15,
   "id": "84c327f4",
   "metadata": {},
   "outputs": [],
   "source": [
    "def set_params(\n",
    "    model = \"gpt-3.5-turbo\",\n",
    "    temperature = 0.7,\n",
    "    max_tokens = 100,\n",
    "):\n",
    "    \"\"\" Default parameters for openai API\"\"\"\n",
    "    openai_params = {}\n",
    "    openai_params['model'] = model\n",
    "    openai_params['temperature'] = temperature\n",
    "    openai_params['max_tokens'] = max_tokens\n",
    "    return openai_params\n",
    "\n",
    "def get_answer(params, messages):\n",
    "    \"\"\" GET Answer from openai API\"\"\"\n",
    "    response = openai.ChatCompletion.create(\n",
    "        model = params['model'],\n",
    "        messages = messages,\n",
    "        max_tokens = params['max_tokens'],\n",
    "        temperature = params['temperature']\n",
    "    )\n",
    "\n",
    "    return response\n",
    "\n",
    "def add_message(messages, role, content):\n",
    "    messages.append({\"role\" : role, \"content\" : content})"
   ]
  },
  {
   "cell_type": "markdown",
   "id": "762f6d20",
   "metadata": {},
   "source": [
    "## 1. Basic Example"
   ]
  },
  {
   "cell_type": "code",
   "execution_count": 16,
   "id": "08260634",
   "metadata": {},
   "outputs": [],
   "source": [
    "params = set_params()\n",
    "\n",
    "messages = []\n",
    "add_message(messages, \"system\", \"You will complete the sentences you get\")\n",
    "add_message(messages, \"user\", \"Marvin will\")\n",
    "answer = get_answer(params, messages)"
   ]
  },
  {
   "cell_type": "code",
   "execution_count": 17,
   "id": "fcddab8b",
   "metadata": {},
   "outputs": [
    {
     "name": "stdout",
     "output_type": "stream",
     "text": [
      "complete the task before the deadline.\n"
     ]
    }
   ],
   "source": [
    "print(answer['choices'][0]['message']['content'])"
   ]
  }
 ],
 "metadata": {
  "kernelspec": {
   "display_name": "Python 3 (ipykernel)",
   "language": "python",
   "name": "python3"
  },
  "language_info": {
   "codemirror_mode": {
    "name": "ipython",
    "version": 3
   },
   "file_extension": ".py",
   "mimetype": "text/x-python",
   "name": "python",
   "nbconvert_exporter": "python",
   "pygments_lexer": "ipython3",
   "version": "3.10.9"
  }
 },
 "nbformat": 4,
 "nbformat_minor": 5
}
